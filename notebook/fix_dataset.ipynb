{
 "cells": [
  {
   "cell_type": "code",
   "execution_count": 1,
   "id": "b28ea62a",
   "metadata": {},
   "outputs": [
    {
     "name": "stdout",
     "output_type": "stream",
     "text": [
      "[train] Total images: 498, Missing labels created: 0\n",
      "[val] Total images: 174, Missing labels created: 0\n",
      "[test] Total images: 94, Missing labels created: 0\n"
     ]
    }
   ],
   "source": [
    "import os\n",
    "\n",
    "# Absolute path to your dataset\n",
    "DATASET_DIR = r\"C:\\dev_projects_pc\\uu-insect-project\\object detection\\insects\\dataset_yolo_final\"\n",
    "\n",
    "# Subfolders to check\n",
    "splits = [\"train\", \"val\", \"test\"]\n",
    "\n",
    "# Supported image extensions\n",
    "img_exts = [\".jpg\", \".jpeg\", \".png\", \".bmp\"]\n",
    "\n",
    "for split in splits:\n",
    "    images_dir = os.path.join(DATASET_DIR, split, \"images\")\n",
    "    labels_dir = os.path.join(DATASET_DIR, split, \"labels\")\n",
    "\n",
    "    if not os.path.exists(images_dir):\n",
    "        print(f\"[WARNING] Images folder missing: {images_dir}\")\n",
    "        continue\n",
    "\n",
    "    os.makedirs(labels_dir, exist_ok=True)\n",
    "\n",
    "    missing_labels = 0\n",
    "    total_images = 0\n",
    "\n",
    "    for img_file in os.listdir(images_dir):\n",
    "        if os.path.splitext(img_file)[1].lower() in img_exts:\n",
    "            total_images += 1\n",
    "            label_file = os.path.join(labels_dir, os.path.splitext(img_file)[0] + \".txt\")\n",
    "            if not os.path.exists(label_file):\n",
    "                # Create empty label file\n",
    "                with open(label_file, \"w\") as f:\n",
    "                    pass\n",
    "                missing_labels += 1\n",
    "\n",
    "    print(f\"[{split}] Total images: {total_images}, Missing labels created: {missing_labels}\")\n"
   ]
  },
  {
   "cell_type": "code",
   "execution_count": 2,
   "id": "fdac503f",
   "metadata": {},
   "outputs": [],
   "source": [
    "import os\n",
    "\n",
    "DATASET_DIR = r\"C:\\dev_projects_pc\\uu-insect-project\\object detection\\insects\\dataset_yolo_final\"\n",
    "splits = [\"train\", \"val\", \"test\"]\n",
    "\n",
    "for split in splits:\n",
    "    labels_dir = os.path.join(DATASET_DIR, split, \"labels\")\n",
    "    for label_file in os.listdir(labels_dir):\n",
    "        if label_file.endswith(\".txt\"):\n",
    "            path = os.path.join(labels_dir, label_file)\n",
    "            with open(path, \"r\") as f:\n",
    "                for line in f:\n",
    "                    parts = line.strip().split()\n",
    "                    if len(parts) != 5:\n",
    "                        print(f\"[ERROR] Wrong format in {path}: {line.strip()}\")\n",
    "                        continue\n",
    "                    cls, x, y, w, h = parts\n",
    "                    x, y, w, h = float(x), float(y), float(w), float(h)\n",
    "                    if not (0 <= x <= 1 and 0 <= y <= 1 and 0 <= w <= 1 and 0 <= h <= 1):\n",
    "                        print(f\"[ERROR] Out-of-range coordinates in {path}: {line.strip()}\")\n"
   ]
  },
  {
   "cell_type": "code",
   "execution_count": 5,
   "id": "4b90869b",
   "metadata": {},
   "outputs": [],
   "source": [
    "import os\n",
    "\n",
    "DATASET_DIR = r\"C:\\dev_projects_pc\\uu-insect-project\\object detection\\insects\\dataset_yolo_final\"\n",
    "split = \"val\"\n",
    "\n",
    "images_dir = os.path.join(DATASET_DIR, split, \"images\")\n",
    "labels_dir = os.path.join(DATASET_DIR, split, \"labels\")\n",
    "\n",
    "images = sorted([f for f in os.listdir(images_dir) if f.lower().endswith((\".jpg\", \".png\"))])\n",
    "labels = sorted([f for f in os.listdir(labels_dir) if f.endswith(\".txt\")])\n",
    "\n",
    "for img in images:\n",
    "    base = os.path.splitext(img)[0]\n",
    "    label_file = base + \".txt\"\n",
    "    if label_file not in labels:\n",
    "        print(f\"Missing label for image: {img}\")\n"
   ]
  }
 ],
 "metadata": {
  "kernelspec": {
   "display_name": "venv",
   "language": "python",
   "name": "python3"
  },
  "language_info": {
   "codemirror_mode": {
    "name": "ipython",
    "version": 3
   },
   "file_extension": ".py",
   "mimetype": "text/x-python",
   "name": "python",
   "nbconvert_exporter": "python",
   "pygments_lexer": "ipython3",
   "version": "3.10.0"
  }
 },
 "nbformat": 4,
 "nbformat_minor": 5
}
